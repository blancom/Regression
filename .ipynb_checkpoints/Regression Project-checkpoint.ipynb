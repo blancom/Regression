{
 "cells": [
  {
   "cell_type": "markdown",
   "metadata": {},
   "source": [
    "## Purpose:\n",
    "To predict the percentage of adults diagnosed with diabetes in a state. The analysis can mobilize community leaders and citizens to work together to build a culture of health.  This project serves as a practical example to help communities move from awareness to action.\n",
    "\n",
    "\n",
    "## Data Description:\n",
    "The population is from the County Health Rankings (CHR) dataset, it contains data from the University of Wisconsin's County Health Rankings for the US states and counties for years 2015 and 2016.  \n",
    "\n",
    "The CHR dataset only includes State and County level data. Population estimates for 2016 CHR data are based on 2014 Census population estimates, and 2015 CHR data are based on 2011 Census population estimates.\n",
    "\n",
    "\n",
    "\n",
    "\n",
    "<img src=\"Health Factor.png\">\n",
    "\n",
    "\n",
    "## Population Dataset:\n",
    "The County Health Rankings ranks the health of nearly every county in every state.   For each county, there are two Rankings, one for Health Outcomes and one for Health Factors.  The health outcome is for how healthy a county currently is.  The Health factors is for how healthy a county might be in the future based on the many factors that influence health. I decided to investigate the health factor of physical inactivity in relation to diabetes diagnosis.  Goal is to predict the percentage of adults diagnosed with diabetes using the given percetage of adults reporting no leisure-time physical activity. \n",
    "\n",
    "The population dataset contains 6382 records which includes county and state data. Initially 9 factors were identified.  Using regression analysis, the factor with the strongest correlation with be selected .  For this regression, only state records will be analyzed.\n",
    "\n",
    "## Sample Dataset:\n",
    "The sample dataset contains 100 data point, 2 records per state for year 2015 and 2016.  \n",
    "\n",
    "## Data Selection:\n",
    "\n",
    "The goal is to predict the percentage of adults diagnosed with diabetes in a state using the features given bellow.  This is the list of the 9 initial factors under consideration:\n",
    "* adult_smoking\n",
    "* adult_obesity\n",
    "* poor_physical_health_days\n",
    "* diabetic_screening\n",
    "* sexually_transmitted_infections\n",
    "* excessive_drinking\n",
    "* physical_inactivity\n",
    "* access_to_exercise_opportunities\n",
    "* food_environment_index\n",
    "\n",
    "Steps:\n",
    "* Import libraries\n",
    "* Import dataset\n",
    "* Explore dataset\n",
    "* Fit a linear regression model\n",
    "* Predict the percentage of adults diagnosed with diabetes using each independent variables\n",
    "* Select the independent variable that best predict the target\n",
    "* Predict the percentage of adults diagnosed with diabetes using **selected** independent variable\n",
    "* Plot scatter plot with the least-squares regression line superimposed\n",
    "* Calculate the mean squared error for train and test data\n",
    "* Plot residual plot\n",
    "* Verify residual plot conditions are meet\n",
    "\n",
    "X = all the other features (or independent variables)\n",
    "\n",
    "and\n",
    "\n",
    "Y = percentage of adults diagnosed with diabetes (“target”)\n",
    "\n",
    "## Raw Data Report:\n",
    "\n",
    "**year**: 4-digit year value\n",
    "\n",
    "**geo_name**: State \n",
    "\n",
    "** geo**: [location ID](Attribute API#geo) (State or County)\n",
    "\n",
    "**physical_inactivity**: percentage of adults aged 20 and over reporting no leisure-time physical activity\n",
    "\n",
    "\n",
    "**diabetes**: percentage of adults aged 20 and above with diagnosed diabetes\n",
    "\n",
    "---\n",
    "\n",
    "**File Type**: The raw data file is comma separated value (CSV)\n",
    "\n",
    "\n",
    "## Variables:\n",
    "\n",
    "* **Explanatory**: Physical Inactivity (physical_inactivity)\n",
    "   * The percentage of adults aged 20 and over reporting no leisure-time physical activity\n",
    "             \n",
    "* **Response**: Diabetes (diabetes)\n",
    "   * The percentage of adults aged 20 and above with diagnosed diabetes\n",
    "   \n",
    "## Tools:\n",
    "* sklearn.linear_model: contains methods intended for regression in which the target value is expected to be a linear combination of the input variable(s)\n",
    "* matplotlib.pyplot: collection of command style functions that make matplotlib work like MATLAB.\n",
    "* pandas: library providing high-performance, easy-to-use data structures and data analysis tools.\n",
    "\n",
    "## API: \n",
    "https://api.datausa.io/api/csv/?show=geo&required=adult_smoking,adult_obesity,poor_physical_health_days,diabetic_screening,sexually_transmitted_infections,excessive_drinking,physical_inactivity,access_to_exercise_opportunities,food_environment_index,diabetes&sumlevel=allS\n",
    "\n",
    "https://api.datausa.io/api/csv/?show=geo&required=adult_smoking,adult_obesity,poor_physical_health_days,diabetic_screening,sexually_transmitted_infections,excessive_drinking,physical_inactivity,access_to_exercise_opportunities,food_environment_index,diabetes&sumlevel=state\n",
    "https://api.datausa.io/api/csv/?show=geo&required=physical_inactivity,diabetes&sumlevel=all\n",
    "\n",
    "https://api.datausa.io/api/csv/?show=geo&required=physical_inactivity,diabetes&sumlevel=state\n",
    "\n",
    "Source: https://github.com/DataUSA/datausa-api/wiki/Data%20API\n",
    "\n"
   ]
  },
  {
   "cell_type": "code",
   "execution_count": 1,
   "metadata": {
    "collapsed": false
   },
   "outputs": [],
   "source": [
    "# Importing the libraries\n",
    "import numpy as np\n",
    "import matplotlib.pyplot as plt\n",
    "import pandas as pd"
   ]
  },
  {
   "cell_type": "code",
   "execution_count": 2,
   "metadata": {
    "collapsed": false
   },
   "outputs": [],
   "source": [
    "# Importing the population dataset\n",
    "dataset = pd.read_csv('Data_Health_Factors.csv')"
   ]
  },
  {
   "cell_type": "code",
   "execution_count": 3,
   "metadata": {
    "collapsed": false
   },
   "outputs": [
    {
     "data": {
      "text/html": [
       "<div>\n",
       "<table border=\"1\" class=\"dataframe\">\n",
       "  <thead>\n",
       "    <tr style=\"text-align: right;\">\n",
       "      <th></th>\n",
       "      <th>adult_smoking</th>\n",
       "      <th>adult_obesity</th>\n",
       "      <th>poor_physical_health_days</th>\n",
       "      <th>diabetic_screening</th>\n",
       "      <th>sexually_transmitted_infections</th>\n",
       "      <th>excessive_drinking</th>\n",
       "      <th>physical_inactivity</th>\n",
       "      <th>access_to_exercise_opportunities</th>\n",
       "      <th>food_environment_index</th>\n",
       "    </tr>\n",
       "  </thead>\n",
       "  <tbody>\n",
       "    <tr>\n",
       "      <th>0</th>\n",
       "      <td>0.211</td>\n",
       "      <td>0.336</td>\n",
       "      <td>4.6</td>\n",
       "      <td>0.85</td>\n",
       "      <td>611.0</td>\n",
       "      <td>0.133</td>\n",
       "      <td>0.293</td>\n",
       "      <td>0.628</td>\n",
       "      <td>6.6</td>\n",
       "    </tr>\n",
       "    <tr>\n",
       "      <th>1</th>\n",
       "      <td>0.219</td>\n",
       "      <td>0.332</td>\n",
       "      <td>4.3</td>\n",
       "      <td>0.84</td>\n",
       "      <td>635.0</td>\n",
       "      <td>0.122</td>\n",
       "      <td>0.294</td>\n",
       "      <td>0.641</td>\n",
       "      <td>6.7</td>\n",
       "    </tr>\n",
       "    <tr>\n",
       "      <th>2</th>\n",
       "      <td>0.199</td>\n",
       "      <td>0.284</td>\n",
       "      <td>3.4</td>\n",
       "      <td>0.76</td>\n",
       "      <td>789.4</td>\n",
       "      <td>0.217</td>\n",
       "      <td>0.203</td>\n",
       "      <td>0.670</td>\n",
       "      <td>7.3</td>\n",
       "    </tr>\n",
       "    <tr>\n",
       "      <th>3</th>\n",
       "      <td>0.208</td>\n",
       "      <td>0.283</td>\n",
       "      <td>3.5</td>\n",
       "      <td>0.76</td>\n",
       "      <td>746.7</td>\n",
       "      <td>0.192</td>\n",
       "      <td>0.201</td>\n",
       "      <td>0.793</td>\n",
       "      <td>7.4</td>\n",
       "    </tr>\n",
       "    <tr>\n",
       "      <th>4</th>\n",
       "      <td>0.166</td>\n",
       "      <td>0.239</td>\n",
       "      <td>3.5</td>\n",
       "      <td>0.79</td>\n",
       "      <td>464.6</td>\n",
       "      <td>0.161</td>\n",
       "      <td>0.204</td>\n",
       "      <td>0.858</td>\n",
       "      <td>6.9</td>\n",
       "    </tr>\n",
       "  </tbody>\n",
       "</table>\n",
       "</div>"
      ],
      "text/plain": [
       "   adult_smoking  adult_obesity  poor_physical_health_days  \\\n",
       "0          0.211          0.336                        4.6   \n",
       "1          0.219          0.332                        4.3   \n",
       "2          0.199          0.284                        3.4   \n",
       "3          0.208          0.283                        3.5   \n",
       "4          0.166          0.239                        3.5   \n",
       "\n",
       "   diabetic_screening  sexually_transmitted_infections  excessive_drinking  \\\n",
       "0                0.85                            611.0               0.133   \n",
       "1                0.84                            635.0               0.122   \n",
       "2                0.76                            789.4               0.217   \n",
       "3                0.76                            746.7               0.192   \n",
       "4                0.79                            464.6               0.161   \n",
       "\n",
       "   physical_inactivity  access_to_exercise_opportunities  \\\n",
       "0                0.293                             0.628   \n",
       "1                0.294                             0.641   \n",
       "2                0.203                             0.670   \n",
       "3                0.201                             0.793   \n",
       "4                0.204                             0.858   \n",
       "\n",
       "   food_environment_index  \n",
       "0                     6.6  \n",
       "1                     6.7  \n",
       "2                     7.3  \n",
       "3                     7.4  \n",
       "4                     6.9  "
      ]
     },
     "execution_count": 3,
     "metadata": {},
     "output_type": "execute_result"
    }
   ],
   "source": [
    "df = pd.DataFrame(dataset)\n",
    "X = df.drop(['year', 'geo_name', 'geo', 'diabetes'], axis=1)\n",
    "X.head()"
   ]
  },
  {
   "cell_type": "code",
   "execution_count": 4,
   "metadata": {
    "collapsed": false
   },
   "outputs": [
    {
     "data": {
      "text/plain": [
       "(100, 9)"
      ]
     },
     "execution_count": 4,
     "metadata": {},
     "output_type": "execute_result"
    }
   ],
   "source": [
    "X.shape"
   ]
  },
  {
   "cell_type": "code",
   "execution_count": 5,
   "metadata": {
    "collapsed": false
   },
   "outputs": [
    {
     "data": {
      "text/plain": [
       "Index(['adult_smoking', 'adult_obesity', 'poor_physical_health_days',\n",
       "       'diabetic_screening', 'sexually_transmitted_infections',\n",
       "       'excessive_drinking', 'physical_inactivity',\n",
       "       'access_to_exercise_opportunities', 'food_environment_index'],\n",
       "      dtype='object')"
      ]
     },
     "execution_count": 5,
     "metadata": {},
     "output_type": "execute_result"
    }
   ],
   "source": [
    "X.keys()"
   ]
  },
  {
   "cell_type": "code",
   "execution_count": 6,
   "metadata": {
    "collapsed": false
   },
   "outputs": [],
   "source": [
    "y = df['diabetes']"
   ]
  },
  {
   "cell_type": "code",
   "execution_count": 7,
   "metadata": {
    "collapsed": false
   },
   "outputs": [
    {
     "data": {
      "text/plain": [
       "LinearRegression(copy_X=True, fit_intercept=True, n_jobs=1, normalize=False)"
      ]
     },
     "execution_count": 7,
     "metadata": {},
     "output_type": "execute_result"
    }
   ],
   "source": [
    "from sklearn.linear_model import LinearRegression\n",
    "regressor = LinearRegression()\n",
    "regressor.fit(X, y)"
   ]
  },
  {
   "cell_type": "code",
   "execution_count": 8,
   "metadata": {
    "collapsed": false
   },
   "outputs": [
    {
     "data": {
      "text/plain": [
       "LinearRegression(copy_X=True, fit_intercept=True, n_jobs=1, normalize=False)"
      ]
     },
     "execution_count": 8,
     "metadata": {},
     "output_type": "execute_result"
    }
   ],
   "source": [
    "LinearRegression(copy_X=True, fit_intercept=True, normalize=False)"
   ]
  },
  {
   "cell_type": "code",
   "execution_count": 9,
   "metadata": {
    "collapsed": false
   },
   "outputs": [
    {
     "data": {
      "text/html": [
       "<div>\n",
       "<table border=\"1\" class=\"dataframe\">\n",
       "  <thead>\n",
       "    <tr style=\"text-align: right;\">\n",
       "      <th></th>\n",
       "      <th>Features</th>\n",
       "      <th>Estimated coefficients</th>\n",
       "    </tr>\n",
       "  </thead>\n",
       "  <tbody>\n",
       "    <tr>\n",
       "      <th>0</th>\n",
       "      <td>adult_smoking</td>\n",
       "      <td>-0.011957</td>\n",
       "    </tr>\n",
       "    <tr>\n",
       "      <th>1</th>\n",
       "      <td>adult_obesity</td>\n",
       "      <td>0.076400</td>\n",
       "    </tr>\n",
       "    <tr>\n",
       "      <th>2</th>\n",
       "      <td>poor_physical_health_days</td>\n",
       "      <td>0.009672</td>\n",
       "    </tr>\n",
       "    <tr>\n",
       "      <th>3</th>\n",
       "      <td>diabetic_screening</td>\n",
       "      <td>0.061640</td>\n",
       "    </tr>\n",
       "    <tr>\n",
       "      <th>4</th>\n",
       "      <td>sexually_transmitted_infections</td>\n",
       "      <td>0.000019</td>\n",
       "    </tr>\n",
       "    <tr>\n",
       "      <th>5</th>\n",
       "      <td>excessive_drinking</td>\n",
       "      <td>-0.060376</td>\n",
       "    </tr>\n",
       "    <tr>\n",
       "      <th>6</th>\n",
       "      <td>physical_inactivity</td>\n",
       "      <td>0.189329</td>\n",
       "    </tr>\n",
       "    <tr>\n",
       "      <th>7</th>\n",
       "      <td>access_to_exercise_opportunities</td>\n",
       "      <td>0.032432</td>\n",
       "    </tr>\n",
       "    <tr>\n",
       "      <th>8</th>\n",
       "      <td>food_environment_index</td>\n",
       "      <td>-0.001915</td>\n",
       "    </tr>\n",
       "  </tbody>\n",
       "</table>\n",
       "</div>"
      ],
      "text/plain": [
       "                           Features  Estimated coefficients\n",
       "0                     adult_smoking               -0.011957\n",
       "1                     adult_obesity                0.076400\n",
       "2         poor_physical_health_days                0.009672\n",
       "3                diabetic_screening                0.061640\n",
       "4   sexually_transmitted_infections                0.000019\n",
       "5                excessive_drinking               -0.060376\n",
       "6               physical_inactivity                0.189329\n",
       "7  access_to_exercise_opportunities                0.032432\n",
       "8            food_environment_index               -0.001915"
      ]
     },
     "execution_count": 9,
     "metadata": {},
     "output_type": "execute_result"
    }
   ],
   "source": [
    "features_coef_df = pd.DataFrame(X.columns,columns=['Features']) \n",
    "features_coef_df['Estimated coefficients'] = pd.DataFrame(regressor.coef_)\n",
    "features_coef_df"
   ]
  },
  {
   "cell_type": "code",
   "execution_count": 10,
   "metadata": {
    "collapsed": false
   },
   "outputs": [
    {
     "data": {
      "text/plain": [
       "0.82942096211665517"
      ]
     },
     "execution_count": 10,
     "metadata": {},
     "output_type": "execute_result"
    }
   ],
   "source": [
    "regressor.score(X, y)"
   ]
  },
  {
   "cell_type": "markdown",
   "metadata": {},
   "source": [
    "Results show that there is a high correlation between physical_inactivity and diabetes."
   ]
  },
  {
   "cell_type": "code",
   "execution_count": 11,
   "metadata": {
    "collapsed": false
   },
   "outputs": [
    {
     "data": {
      "image/png": "[encoded data removed]",
      "text/plain": [
       "<matplotlib.figure.Figure at 0x111035240>"
      ]
     },
     "metadata": {},
     "output_type": "display_data"
    }
   ],
   "source": [
    "plt.scatter(dataset['physical_inactivity'], dataset['diabetes'], color = 'blue')\n",
    "plt.title('Relationship between Physical Inactivity and Diabetes')\n",
    "plt.xlabel('True physical_inactivity')\n",
    "plt.ylabel('True diabetes')\n",
    "plt.show()"
   ]
  },
  {
   "cell_type": "markdown",
   "metadata": {},
   "source": [
    "Plot a scatter plot between True physical_inactivity and True diabetes."
   ]
  },
  {
   "cell_type": "code",
   "execution_count": 12,
   "metadata": {
    "collapsed": false
   },
   "outputs": [],
   "source": [
    "# Importing the population dataset\n",
    "dataset = pd.read_csv('Data.csv')"
   ]
  },
  {
   "cell_type": "code",
   "execution_count": 13,
   "metadata": {
    "collapsed": false
   },
   "outputs": [
    {
     "data": {
      "text/plain": [
       "Index(['year', 'geo_name', 'geo', 'diabetes', 'physical_inactivity'], dtype='object')"
      ]
     },
     "execution_count": 13,
     "metadata": {},
     "output_type": "execute_result"
    }
   ],
   "source": [
    "dataset.keys()"
   ]
  },
  {
   "cell_type": "code",
   "execution_count": 14,
   "metadata": {
    "collapsed": false
   },
   "outputs": [
    {
     "data": {
      "text/plain": [
       "(6382, 5)"
      ]
     },
     "execution_count": 14,
     "metadata": {},
     "output_type": "execute_result"
    }
   ],
   "source": [
    "dataset.shape"
   ]
  },
  {
   "cell_type": "markdown",
   "metadata": {},
   "source": [
    "## Raw Population Data Report"
   ]
  },
  {
   "cell_type": "code",
   "execution_count": 15,
   "metadata": {
    "collapsed": false
   },
   "outputs": [
    {
     "data": {
      "text/html": [
       "<div>\n",
       "<table border=\"1\" class=\"dataframe\">\n",
       "  <thead>\n",
       "    <tr style=\"text-align: right;\">\n",
       "      <th></th>\n",
       "      <th>year</th>\n",
       "      <th>geo_name</th>\n",
       "      <th>geo</th>\n",
       "      <th>diabetes</th>\n",
       "      <th>physical_inactivity</th>\n",
       "    </tr>\n",
       "  </thead>\n",
       "  <tbody>\n",
       "    <tr>\n",
       "      <th>0</th>\n",
       "      <td>2016</td>\n",
       "      <td>Alabama</td>\n",
       "      <td>04000US01</td>\n",
       "      <td>0.124</td>\n",
       "      <td>0.293</td>\n",
       "    </tr>\n",
       "    <tr>\n",
       "      <th>1</th>\n",
       "      <td>2015</td>\n",
       "      <td>Alabama</td>\n",
       "      <td>04000US01</td>\n",
       "      <td>0.129</td>\n",
       "      <td>0.294</td>\n",
       "    </tr>\n",
       "    <tr>\n",
       "      <th>2</th>\n",
       "      <td>2015</td>\n",
       "      <td>Alaska</td>\n",
       "      <td>04000US02</td>\n",
       "      <td>0.069</td>\n",
       "      <td>0.201</td>\n",
       "    </tr>\n",
       "    <tr>\n",
       "      <th>3</th>\n",
       "      <td>2016</td>\n",
       "      <td>Alaska</td>\n",
       "      <td>04000US02</td>\n",
       "      <td>0.077</td>\n",
       "      <td>0.203</td>\n",
       "    </tr>\n",
       "    <tr>\n",
       "      <th>4</th>\n",
       "      <td>2015</td>\n",
       "      <td>Arizona</td>\n",
       "      <td>04000US04</td>\n",
       "      <td>0.089</td>\n",
       "      <td>0.204</td>\n",
       "    </tr>\n",
       "  </tbody>\n",
       "</table>\n",
       "</div>"
      ],
      "text/plain": [
       "   year geo_name        geo diabetes  physical_inactivity\n",
       "0  2016  Alabama  04000US01    0.124                0.293\n",
       "1  2015  Alabama  04000US01    0.129                0.294\n",
       "2  2015   Alaska  04000US02    0.069                0.201\n",
       "3  2016   Alaska  04000US02    0.077                0.203\n",
       "4  2015  Arizona  04000US04    0.089                0.204"
      ]
     },
     "execution_count": 15,
     "metadata": {},
     "output_type": "execute_result"
    }
   ],
   "source": [
    "dataset.head()"
   ]
  },
  {
   "cell_type": "markdown",
   "metadata": {},
   "source": [
    "Table 1: Population Dataset\n",
    "\n",
    "Source: University of Wisconsin County Health Rankings (CHR) \n",
    "\n",
    "Site: http://www.countyhealthrankings.org"
   ]
  },
  {
   "cell_type": "code",
   "execution_count": 16,
   "metadata": {
    "collapsed": false
   },
   "outputs": [],
   "source": [
    "# Importing the sample dataset\n",
    "dataset = pd.read_csv('Data_Health_Factors.csv')"
   ]
  },
  {
   "cell_type": "code",
   "execution_count": 17,
   "metadata": {
    "collapsed": false
   },
   "outputs": [
    {
     "data": {
      "text/plain": [
       "Index(['year', 'geo_name', 'geo', 'adult_smoking', 'adult_obesity',\n",
       "       'poor_physical_health_days', 'diabetic_screening',\n",
       "       'sexually_transmitted_infections', 'excessive_drinking',\n",
       "       'physical_inactivity', 'access_to_exercise_opportunities',\n",
       "       'food_environment_index', 'diabetes'],\n",
       "      dtype='object')"
      ]
     },
     "execution_count": 17,
     "metadata": {},
     "output_type": "execute_result"
    }
   ],
   "source": [
    "dataset.keys()"
   ]
  },
  {
   "cell_type": "code",
   "execution_count": 18,
   "metadata": {
    "collapsed": false
   },
   "outputs": [
    {
     "data": {
      "text/plain": [
       "(100, 13)"
      ]
     },
     "execution_count": 18,
     "metadata": {},
     "output_type": "execute_result"
    }
   ],
   "source": [
    "dataset.shape"
   ]
  },
  {
   "cell_type": "markdown",
   "metadata": {},
   "source": [
    "## Raw Sample Data Report"
   ]
  },
  {
   "cell_type": "code",
   "execution_count": 19,
   "metadata": {
    "collapsed": false
   },
   "outputs": [
    {
     "data": {
      "text/html": [
       "<div>\n",
       "<table border=\"1\" class=\"dataframe\">\n",
       "  <thead>\n",
       "    <tr style=\"text-align: right;\">\n",
       "      <th></th>\n",
       "      <th>year</th>\n",
       "      <th>geo_name</th>\n",
       "      <th>geo</th>\n",
       "      <th>adult_smoking</th>\n",
       "      <th>adult_obesity</th>\n",
       "      <th>poor_physical_health_days</th>\n",
       "      <th>diabetic_screening</th>\n",
       "      <th>sexually_transmitted_infections</th>\n",
       "      <th>excessive_drinking</th>\n",
       "      <th>physical_inactivity</th>\n",
       "      <th>access_to_exercise_opportunities</th>\n",
       "      <th>food_environment_index</th>\n",
       "      <th>diabetes</th>\n",
       "    </tr>\n",
       "  </thead>\n",
       "  <tbody>\n",
       "    <tr>\n",
       "      <th>0</th>\n",
       "      <td>2016</td>\n",
       "      <td>Alabama</td>\n",
       "      <td>04000US01</td>\n",
       "      <td>0.211</td>\n",
       "      <td>0.336</td>\n",
       "      <td>4.6</td>\n",
       "      <td>0.85</td>\n",
       "      <td>611.0</td>\n",
       "      <td>0.133</td>\n",
       "      <td>0.293</td>\n",
       "      <td>0.628</td>\n",
       "      <td>6.6</td>\n",
       "      <td>0.124</td>\n",
       "    </tr>\n",
       "    <tr>\n",
       "      <th>1</th>\n",
       "      <td>2015</td>\n",
       "      <td>Alabama</td>\n",
       "      <td>04000US01</td>\n",
       "      <td>0.219</td>\n",
       "      <td>0.332</td>\n",
       "      <td>4.3</td>\n",
       "      <td>0.84</td>\n",
       "      <td>635.0</td>\n",
       "      <td>0.122</td>\n",
       "      <td>0.294</td>\n",
       "      <td>0.641</td>\n",
       "      <td>6.7</td>\n",
       "      <td>0.129</td>\n",
       "    </tr>\n",
       "    <tr>\n",
       "      <th>2</th>\n",
       "      <td>2016</td>\n",
       "      <td>Alaska</td>\n",
       "      <td>04000US02</td>\n",
       "      <td>0.199</td>\n",
       "      <td>0.284</td>\n",
       "      <td>3.4</td>\n",
       "      <td>0.76</td>\n",
       "      <td>789.4</td>\n",
       "      <td>0.217</td>\n",
       "      <td>0.203</td>\n",
       "      <td>0.670</td>\n",
       "      <td>7.3</td>\n",
       "      <td>0.077</td>\n",
       "    </tr>\n",
       "    <tr>\n",
       "      <th>3</th>\n",
       "      <td>2015</td>\n",
       "      <td>Alaska</td>\n",
       "      <td>04000US02</td>\n",
       "      <td>0.208</td>\n",
       "      <td>0.283</td>\n",
       "      <td>3.5</td>\n",
       "      <td>0.76</td>\n",
       "      <td>746.7</td>\n",
       "      <td>0.192</td>\n",
       "      <td>0.201</td>\n",
       "      <td>0.793</td>\n",
       "      <td>7.4</td>\n",
       "      <td>0.069</td>\n",
       "    </tr>\n",
       "    <tr>\n",
       "      <th>4</th>\n",
       "      <td>2015</td>\n",
       "      <td>Arizona</td>\n",
       "      <td>04000US04</td>\n",
       "      <td>0.166</td>\n",
       "      <td>0.239</td>\n",
       "      <td>3.5</td>\n",
       "      <td>0.79</td>\n",
       "      <td>464.6</td>\n",
       "      <td>0.161</td>\n",
       "      <td>0.204</td>\n",
       "      <td>0.858</td>\n",
       "      <td>6.9</td>\n",
       "      <td>0.089</td>\n",
       "    </tr>\n",
       "  </tbody>\n",
       "</table>\n",
       "</div>"
      ],
      "text/plain": [
       "   year geo_name        geo  adult_smoking  adult_obesity  \\\n",
       "0  2016  Alabama  04000US01          0.211          0.336   \n",
       "1  2015  Alabama  04000US01          0.219          0.332   \n",
       "2  2016   Alaska  04000US02          0.199          0.284   \n",
       "3  2015   Alaska  04000US02          0.208          0.283   \n",
       "4  2015  Arizona  04000US04          0.166          0.239   \n",
       "\n",
       "   poor_physical_health_days  diabetic_screening  \\\n",
       "0                        4.6                0.85   \n",
       "1                        4.3                0.84   \n",
       "2                        3.4                0.76   \n",
       "3                        3.5                0.76   \n",
       "4                        3.5                0.79   \n",
       "\n",
       "   sexually_transmitted_infections  excessive_drinking  physical_inactivity  \\\n",
       "0                            611.0               0.133                0.293   \n",
       "1                            635.0               0.122                0.294   \n",
       "2                            789.4               0.217                0.203   \n",
       "3                            746.7               0.192                0.201   \n",
       "4                            464.6               0.161                0.204   \n",
       "\n",
       "   access_to_exercise_opportunities  food_environment_index  diabetes  \n",
       "0                             0.628                     6.6     0.124  \n",
       "1                             0.641                     6.7     0.129  \n",
       "2                             0.670                     7.3     0.077  \n",
       "3                             0.793                     7.4     0.069  \n",
       "4                             0.858                     6.9     0.089  "
      ]
     },
     "execution_count": 19,
     "metadata": {},
     "output_type": "execute_result"
    }
   ],
   "source": [
    "dataset.head()"
   ]
  },
  {
   "cell_type": "markdown",
   "metadata": {},
   "source": [
    "Table 2: Sample Dataset\n",
    "\n",
    "Source: University of Wisconsin County Health Rankings (CHR) \n",
    "\n",
    "Site: http://www.countyhealthrankings.org"
   ]
  },
  {
   "cell_type": "markdown",
   "metadata": {},
   "source": [
    "### Extract physical_inactivity and diabetes columns"
   ]
  },
  {
   "cell_type": "code",
   "execution_count": 20,
   "metadata": {
    "collapsed": false
   },
   "outputs": [
    {
     "data": {
      "text/html": [
       "<div>\n",
       "<table border=\"1\" class=\"dataframe\">\n",
       "  <thead>\n",
       "    <tr style=\"text-align: right;\">\n",
       "      <th></th>\n",
       "      <th>physical_inactivity</th>\n",
       "      <th>diabetes</th>\n",
       "    </tr>\n",
       "  </thead>\n",
       "  <tbody>\n",
       "    <tr>\n",
       "      <th>0</th>\n",
       "      <td>0.293</td>\n",
       "      <td>0.124</td>\n",
       "    </tr>\n",
       "    <tr>\n",
       "      <th>1</th>\n",
       "      <td>0.294</td>\n",
       "      <td>0.129</td>\n",
       "    </tr>\n",
       "    <tr>\n",
       "      <th>2</th>\n",
       "      <td>0.203</td>\n",
       "      <td>0.077</td>\n",
       "    </tr>\n",
       "    <tr>\n",
       "      <th>3</th>\n",
       "      <td>0.201</td>\n",
       "      <td>0.069</td>\n",
       "    </tr>\n",
       "    <tr>\n",
       "      <th>4</th>\n",
       "      <td>0.204</td>\n",
       "      <td>0.089</td>\n",
       "    </tr>\n",
       "  </tbody>\n",
       "</table>\n",
       "</div>"
      ],
      "text/plain": [
       "   physical_inactivity  diabetes\n",
       "0                0.293     0.124\n",
       "1                0.294     0.129\n",
       "2                0.203     0.077\n",
       "3                0.201     0.069\n",
       "4                0.204     0.089"
      ]
     },
     "execution_count": 20,
     "metadata": {},
     "output_type": "execute_result"
    }
   ],
   "source": [
    "new_df = dataset.drop(['year','geo_name','geo','adult_smoking','adult_obesity',\n",
    "                       'poor_physical_health_days','diabetic_screening',\n",
    "                       'sexually_transmitted_infections','excessive_drinking',\n",
    "                       'access_to_exercise_opportunities','food_environment_index'], axis=1)\n",
    "\n",
    "new_df.head()"
   ]
  },
  {
   "cell_type": "code",
   "execution_count": 21,
   "metadata": {
    "collapsed": false
   },
   "outputs": [],
   "source": [
    "#Physical Inactivity Column\n",
    "physical_inactivity = new_df.iloc[:, 0:1].values"
   ]
  },
  {
   "cell_type": "code",
   "execution_count": 22,
   "metadata": {
    "collapsed": false
   },
   "outputs": [],
   "source": [
    "#Diabetes Column\n",
    "diabetes = new_df.iloc[:, 1:].values"
   ]
  },
  {
   "cell_type": "markdown",
   "metadata": {},
   "source": [
    "### Splitting the dataset into the Training set and Test set"
   ]
  },
  {
   "cell_type": "code",
   "execution_count": 23,
   "metadata": {
    "collapsed": true
   },
   "outputs": [],
   "source": [
    "from sklearn.model_selection import train_test_split\n",
    "X_train, X_test, y_train, y_test = train_test_split(physical_inactivity, diabetes, test_size = 1/3, random_state = 0)"
   ]
  },
  {
   "cell_type": "code",
   "execution_count": 24,
   "metadata": {
    "collapsed": false
   },
   "outputs": [
    {
     "data": {
      "text/plain": [
       "(66, 1)"
      ]
     },
     "execution_count": 24,
     "metadata": {},
     "output_type": "execute_result"
    }
   ],
   "source": [
    "# Count of training data\n",
    "X_train.shape"
   ]
  },
  {
   "cell_type": "code",
   "execution_count": 25,
   "metadata": {
    "collapsed": false
   },
   "outputs": [
    {
     "data": {
      "text/plain": [
       "(34, 1)"
      ]
     },
     "execution_count": 25,
     "metadata": {},
     "output_type": "execute_result"
    }
   ],
   "source": [
    "# Count of test data\n",
    "X_test.shape"
   ]
  },
  {
   "cell_type": "code",
   "execution_count": 26,
   "metadata": {
    "collapsed": false
   },
   "outputs": [
    {
     "data": {
      "text/html": [
       "<div>\n",
       "<table border=\"1\" class=\"dataframe\">\n",
       "  <thead>\n",
       "    <tr style=\"text-align: right;\">\n",
       "      <th></th>\n",
       "      <th>physical_inactivity</th>\n",
       "      <th>Diabetes</th>\n",
       "    </tr>\n",
       "  </thead>\n",
       "  <tbody>\n",
       "    <tr>\n",
       "      <th>0</th>\n",
       "      <td>0.220</td>\n",
       "      <td>0.076</td>\n",
       "    </tr>\n",
       "    <tr>\n",
       "      <th>1</th>\n",
       "      <td>0.279</td>\n",
       "      <td>0.103</td>\n",
       "    </tr>\n",
       "    <tr>\n",
       "      <th>2</th>\n",
       "      <td>0.246</td>\n",
       "      <td>0.114</td>\n",
       "    </tr>\n",
       "    <tr>\n",
       "      <th>3</th>\n",
       "      <td>0.206</td>\n",
       "      <td>0.091</td>\n",
       "    </tr>\n",
       "    <tr>\n",
       "      <th>4</th>\n",
       "      <td>0.235</td>\n",
       "      <td>0.094</td>\n",
       "    </tr>\n",
       "  </tbody>\n",
       "</table>\n",
       "</div>"
      ],
      "text/plain": [
       "   physical_inactivity  Diabetes\n",
       "0                0.220     0.076\n",
       "1                0.279     0.103\n",
       "2                0.246     0.114\n",
       "3                0.206     0.091\n",
       "4                0.235     0.094"
      ]
     },
     "execution_count": 26,
     "metadata": {},
     "output_type": "execute_result"
    }
   ],
   "source": [
    "train_df = pd.DataFrame(X_train,columns=['physical_inactivity'])\n",
    "train_df['Diabetes'] = pd.DataFrame(y_train)\n",
    "train_df.head()"
   ]
  },
  {
   "cell_type": "code",
   "execution_count": 27,
   "metadata": {
    "collapsed": false
   },
   "outputs": [
    {
     "data": {
      "text/html": [
       "<div>\n",
       "<table border=\"1\" class=\"dataframe\">\n",
       "  <thead>\n",
       "    <tr style=\"text-align: right;\">\n",
       "      <th></th>\n",
       "      <th>physical_inactivity</th>\n",
       "      <th>Diabetes</th>\n",
       "    </tr>\n",
       "  </thead>\n",
       "  <tbody>\n",
       "    <tr>\n",
       "      <th>0</th>\n",
       "      <td>0.268</td>\n",
       "      <td>0.108</td>\n",
       "    </tr>\n",
       "    <tr>\n",
       "      <th>1</th>\n",
       "      <td>0.173</td>\n",
       "      <td>0.071</td>\n",
       "    </tr>\n",
       "    <tr>\n",
       "      <th>2</th>\n",
       "      <td>0.203</td>\n",
       "      <td>0.077</td>\n",
       "    </tr>\n",
       "    <tr>\n",
       "      <th>3</th>\n",
       "      <td>0.209</td>\n",
       "      <td>0.103</td>\n",
       "    </tr>\n",
       "    <tr>\n",
       "      <th>4</th>\n",
       "      <td>0.242</td>\n",
       "      <td>0.103</td>\n",
       "    </tr>\n",
       "  </tbody>\n",
       "</table>\n",
       "</div>"
      ],
      "text/plain": [
       "   physical_inactivity  Diabetes\n",
       "0                0.268     0.108\n",
       "1                0.173     0.071\n",
       "2                0.203     0.077\n",
       "3                0.209     0.103\n",
       "4                0.242     0.103"
      ]
     },
     "execution_count": 27,
     "metadata": {},
     "output_type": "execute_result"
    }
   ],
   "source": [
    "test_df = pd.DataFrame(X_test,columns=['physical_inactivity'])\n",
    "test_df['Diabetes'] = pd.DataFrame(y_test)\n",
    "test_df.head()"
   ]
  },
  {
   "cell_type": "markdown",
   "metadata": {},
   "source": [
    "### Fitting Simple Linear Regression to the Training set"
   ]
  },
  {
   "cell_type": "code",
   "execution_count": 28,
   "metadata": {
    "collapsed": false
   },
   "outputs": [
    {
     "data": {
      "text/plain": [
       "LinearRegression(copy_X=True, fit_intercept=True, n_jobs=1, normalize=False)"
      ]
     },
     "execution_count": 28,
     "metadata": {},
     "output_type": "execute_result"
    }
   ],
   "source": [
    "from sklearn.linear_model import LinearRegression\n",
    "regressor = LinearRegression()\n",
    "regressor.fit(X_train, y_train)"
   ]
  },
  {
   "cell_type": "markdown",
   "metadata": {},
   "source": [
    "### Visualizing the Training set results"
   ]
  },
  {
   "cell_type": "code",
   "execution_count": 29,
   "metadata": {
    "collapsed": false
   },
   "outputs": [
    {
     "data": {
      "image/png": "[encoded data removed]",
      "text/plain": [
       "<matplotlib.figure.Figure at 0x114dc4208>"
      ]
     },
     "metadata": {},
     "output_type": "display_data"
    }
   ],
   "source": [
    "plt.scatter(X_train, y_train, color = 'red')\n",
    "plt.plot(X_train, regressor.predict(X_train), color = 'blue')\n",
    "plt.title('Physical Inactivity vs Diabetes (Training set)')\n",
    "plt.xlabel('Physical Inactivity')\n",
    "plt.ylabel('Diabetes')\n",
    "plt.show()"
   ]
  },
  {
   "cell_type": "markdown",
   "metadata": {},
   "source": [
    "A scatterplot of the train dataset. The least-squares regression line is superimposed (blue line)."
   ]
  },
  {
   "cell_type": "markdown",
   "metadata": {},
   "source": [
    "Here we can compare the percentage of adults adults aged 20 and above that reported no leisure-time physical activity with the percentage of adults aged 20 and above with diagnosed diabetes for all of the states in United States for 2015 and 2016."
   ]
  },
  {
   "cell_type": "code",
   "execution_count": 30,
   "metadata": {
    "collapsed": false
   },
   "outputs": [
    {
     "data": {
      "image/png": "[encoded data removed]",
      "text/plain": [
       "<matplotlib.figure.Figure at 0x114acb278>"
      ]
     },
     "metadata": {},
     "output_type": "display_data"
    }
   ],
   "source": [
    "plt.scatter(y_train, regressor.predict(X_train), color = 'red')\n",
    "plt.title('Actual Diabetes vs Predicted Diabetes (Training set)')\n",
    "plt.xlabel('Actual Diabetes $Y_i$')\n",
    "plt.ylabel('Predicted Diabetes $\\hat{Y}_i$')\n",
    "plt.show()"
   ]
  },
  {
   "cell_type": "markdown",
   "metadata": {},
   "source": [
    "Scatter plot to compare actual Diabetes vs predicted Diabetes for the training dataset."
   ]
  },
  {
   "cell_type": "markdown",
   "metadata": {},
   "source": [
    "### Visualizing the Test set results"
   ]
  },
  {
   "cell_type": "code",
   "execution_count": 31,
   "metadata": {
    "collapsed": false,
    "scrolled": true
   },
   "outputs": [
    {
     "data": {
      "image/png": "[encoded data removed]",
      "text/plain": [
       "<matplotlib.figure.Figure at 0x115098358>"
      ]
     },
     "metadata": {},
     "output_type": "display_data"
    }
   ],
   "source": [
    "plt.scatter(X_test, y_test, color = 'green')\n",
    "plt.plot(X_test, regressor.predict(X_test), color = 'blue')\n",
    "plt.title('Physical Inactivity vs Diabetes (Test set)')\n",
    "plt.xlabel('Physical Inactivity')\n",
    "plt.ylabel('Diabetes')\n",
    "plt.show()"
   ]
  },
  {
   "cell_type": "markdown",
   "metadata": {},
   "source": [
    "### Calculations: coefficient, intercept, mean squared error and variance score"
   ]
  },
  {
   "cell_type": "code",
   "execution_count": 32,
   "metadata": {
    "collapsed": false
   },
   "outputs": [
    {
     "data": {
      "image/png": "[encoded data removed]",
      "text/plain": [
       "<matplotlib.figure.Figure at 0x11446deb8>"
      ]
     },
     "metadata": {},
     "output_type": "display_data"
    }
   ],
   "source": [
    "plt.scatter(y_test, regressor.predict(X_test), color = 'green')\n",
    "plt.title('Actual Diabetes vs Predicted Diabetes (Test set)')\n",
    "plt.xlabel('Actual Diabetes $Y_i$')\n",
    "plt.ylabel('Predicted Diabetes $\\hat{Y}_i$')\n",
    "plt.show()"
   ]
  },
  {
   "cell_type": "markdown",
   "metadata": {},
   "source": [
    "Scatter plot to compare actual Diabetes vs predicted Diabetes for the test dataset."
   ]
  },
  {
   "cell_type": "code",
   "execution_count": 33,
   "metadata": {
    "collapsed": false
   },
   "outputs": [
    {
     "name": "stdout",
     "output_type": "stream",
     "text": [
      "Coefficient:  0.3102523129\n",
      "Intercept:  0.0242474266561\n",
      "Mean squared error: 0.0000842648\n",
      "Variance score: 0.6494780167\n"
     ]
    }
   ],
   "source": [
    "# The coefficient\n",
    "print('Coefficient: ', regressor.coef_[0][0])\n",
    "# The estimated intercept\n",
    "print('Intercept: ', regressor.intercept_[0])\n",
    "\n",
    "# The mean squared error\n",
    "print(\"Mean squared error: %.10f\"\n",
    "      % np.mean((regressor.predict(X_test) - y_test) ** 2))\n",
    "# Explained variance score: 1 is perfect prediction\n",
    "print('Variance score: %.10f' % regressor.score(X_test, y_test))"
   ]
  },
  {
   "cell_type": "markdown",
   "metadata": {},
   "source": [
    "### Visualizing the Residual Plot"
   ]
  },
  {
   "cell_type": "code",
   "execution_count": 34,
   "metadata": {
    "collapsed": false
   },
   "outputs": [
    {
     "data": {
      "image/png": "[encoded data removed]",
      "text/plain": [
       "<matplotlib.figure.Figure at 0x11525e2b0>"
      ]
     },
     "metadata": {},
     "output_type": "display_data"
    }
   ],
   "source": [
    "plt.scatter(regressor.predict(X_train), regressor.predict(X_train) - y_train, c='b', s=10, alpha=.5)\n",
    "plt.scatter(regressor.predict(X_test), regressor.predict(X_test) - y_test, c='g', s=10)\n",
    "plt.hlines(y=0, xmin=0.05, xmax=.15)\n",
    "plt.title('Residual Plot using training (blue) and test (green) data')\n",
    "plt.ylabel('Risiduals')\n",
    "plt.show()"
   ]
  },
  {
   "cell_type": "markdown",
   "metadata": {},
   "source": [
    "The following conditions hold for the Residual Plot:\n",
    "* The residual plot does not exhibit an pattern\n",
    "* The vertical spread of the points in the residual plot are roughly the same across the plot.\n",
    "* The residual plot does not exhibit outliers."
   ]
  },
  {
   "cell_type": "code",
   "execution_count": 35,
   "metadata": {
    "collapsed": false
   },
   "outputs": [
    {
     "data": {
      "text/html": [
       "<div>\n",
       "<table border=\"1\" class=\"dataframe\">\n",
       "  <thead>\n",
       "    <tr style=\"text-align: right;\">\n",
       "      <th></th>\n",
       "      <th>Actual Diabetes</th>\n",
       "      <th>Predicted Diabetes</th>\n",
       "      <th>Residual</th>\n",
       "    </tr>\n",
       "  </thead>\n",
       "  <tbody>\n",
       "    <tr>\n",
       "      <th>0</th>\n",
       "      <td>0.076</td>\n",
       "      <td>0.092503</td>\n",
       "      <td>0.016503</td>\n",
       "    </tr>\n",
       "    <tr>\n",
       "      <th>1</th>\n",
       "      <td>0.103</td>\n",
       "      <td>0.110808</td>\n",
       "      <td>0.007808</td>\n",
       "    </tr>\n",
       "    <tr>\n",
       "      <th>2</th>\n",
       "      <td>0.114</td>\n",
       "      <td>0.100569</td>\n",
       "      <td>-0.013431</td>\n",
       "    </tr>\n",
       "    <tr>\n",
       "      <th>3</th>\n",
       "      <td>0.091</td>\n",
       "      <td>0.088159</td>\n",
       "      <td>-0.002841</td>\n",
       "    </tr>\n",
       "    <tr>\n",
       "      <th>4</th>\n",
       "      <td>0.094</td>\n",
       "      <td>0.097157</td>\n",
       "      <td>0.003157</td>\n",
       "    </tr>\n",
       "  </tbody>\n",
       "</table>\n",
       "</div>"
      ],
      "text/plain": [
       "   Actual Diabetes  Predicted Diabetes  Residual\n",
       "0            0.076            0.092503  0.016503\n",
       "1            0.103            0.110808  0.007808\n",
       "2            0.114            0.100569 -0.013431\n",
       "3            0.091            0.088159 -0.002841\n",
       "4            0.094            0.097157  0.003157"
      ]
     },
     "execution_count": 35,
     "metadata": {},
     "output_type": "execute_result"
    }
   ],
   "source": [
    "results = pd.DataFrame(y_train,columns=['Actual Diabetes'])\n",
    "results['Predicted Diabetes'] = pd.DataFrame(regressor.predict(X_train))\n",
    "results['Residual'] = pd.DataFrame(regressor.predict(X_train) - y_train)\n",
    "results.head()"
   ]
  },
  {
   "cell_type": "markdown",
   "metadata": {
    "collapsed": false
   },
   "source": [
    "## Summary: \n",
    "\n",
    "There is positive correlation between physical inactivity and diabetes.  \n",
    "States with adults that have higher percentage of physical inactivity have higher percentage of adults diagnosed with diabetes."
   ]
  },
  {
   "cell_type": "markdown",
   "metadata": {
    "collapsed": true
   },
   "source": [
    "<2017CSV_SAS_DatasetDocumentation>"
   ]
  },
  {
   "cell_type": "code",
   "execution_count": null,
   "metadata": {
    "collapsed": true
   },
   "outputs": [],
   "source": []
  }
 ],
 "metadata": {
  "kernelspec": {
   "display_name": "Python 3",
   "language": "python",
   "name": "python3"
  },
  "language_info": {
   "codemirror_mode": {
    "name": "ipython",
    "version": 3
   },
   "file_extension": ".py",
   "mimetype": "text/x-python",
   "name": "python",
   "nbconvert_exporter": "python",
   "pygments_lexer": "ipython3",
   "version": "3.6.0"
  }
 },
 "nbformat": 4,
 "nbformat_minor": 2
}
